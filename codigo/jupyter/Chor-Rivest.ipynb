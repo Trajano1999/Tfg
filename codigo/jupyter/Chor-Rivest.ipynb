{
 "cells": [
  {
   "cell_type": "code",
   "execution_count": 2,
   "metadata": {},
   "outputs": [],
   "source": [
    "# Criptosistema de Chor-Rivest\n",
    "# Juan Manuel Mateos Pérez"
   ]
  },
  {
   "cell_type": "code",
   "execution_count": 3,
   "metadata": {},
   "outputs": [],
   "source": [
    "## Explicación :\n",
    "# En este programa estamos simulando el envío de información entre dos usuarios. \n",
    "# En primer lugar, se genera un mensaje aleatorio binario. Este mensaje es de tamaño q y tiene tantos 1's como h indique.\n",
    "# Ambos valores pueden ser modificados desde el main. \n",
    "# Luego, se generan las dos claves, tanto la pública como la privada, a partir de los valores anteriores.\n",
    "# A continuación se produce el cifrado, utilizando el mensaje generado y la clave pública. \n",
    "# Posteriormente, procedemos a descifrar ese mensaje gracias a la clave privada.\n",
    "# Por último, se ejecuta una función que calcula el número de errores cometidos.\n",
    "\n",
    "## Ejecución :\n",
    "# jjj"
   ]
  },
  {
   "cell_type": "code",
   "execution_count": 4,
   "metadata": {},
   "outputs": [],
   "source": [
    "# genera un mensaje aleatorio binario de tamaño q y exactamente h unos\n",
    "def generarMensaje(q, h):\n",
    "    mensaje = zero_vector(ZZ, q)\n",
    "    aleatorios = 0\n",
    "    \n",
    "    while aleatorios < h:\n",
    "        random = randint(0, q-1)\n",
    "        if mensaje[random] == 0:\n",
    "            mensaje[random] = 1\n",
    "            aleatorios += 1\n",
    "        \n",
    "    return list(mensaje)"
   ]
  },
  {
   "cell_type": "code",
   "execution_count": 5,
   "metadata": {},
   "outputs": [],
   "source": [
    "# genera la clave privada y púbica para el criptosistema\n",
    "def generarClaves(q, h):\n",
    "    \n",
    "    # generamos el cuerpo finito F de q^h elementos\n",
    "    Fqh = GF(q**h, x)\n",
    "    \n",
    "    # obtenemos el generador del grupo multiplicativo de Fqh\n",
    "    g = Fqh.multiplicative_generator()\n",
    "    \n",
    "#     # generamos el cuerpo finito F de q elementos\n",
    "#     Fq = GF(q, x)\n",
    "#     # calculamos los logaritmos necesarios\n",
    "#     logaritmos = []\n",
    "#     for i in Fq:\n",
    "#         logaritmos.append(log((t + i), g))\n",
    "    \n",
    "    # jjj no se calcular t\n",
    "    t = 0\n",
    "    logaritmos = [randint(1, q) for _ in range(q)]\n",
    "    \n",
    "    # aplicamos una permutación\n",
    "    logaritmos_reordenados = []\n",
    "    permutacion_aleatoria = Permutations(len(logaritmos)).random_element()\n",
    "    for i in permutacion_aleatoria:\n",
    "        logaritmos_reordenados.append(logaritmos[i-1])\n",
    "    \n",
    "    # generamos ruido\n",
    "    ruido = []\n",
    "    r = randint(0, q**h - 2)\n",
    "    for i in range(q):\n",
    "        ruido.append((logaritmos_reordenados[i] + r) % (q**h - 1))\n",
    "    \n",
    "    pk = ruido + [q, h]\n",
    "    sk = [t, g, permutacion_aleatoria, r]\n",
    "    return [pk, sk]"
   ]
  },
  {
   "cell_type": "code",
   "execution_count": 6,
   "metadata": {},
   "outputs": [],
   "source": [
    "# cifra un mensaje\n",
    "def cifrar(m, pk):\n",
    "    cifrado = 0\n",
    "    n = len(pk)\n",
    "    \n",
    "    for i in range(q):\n",
    "        cifrado += (m[i] * pk[i]) % (pk[n-2]**pk[n-1] - 1)\n",
    "    \n",
    "    return cifrado"
   ]
  },
  {
   "cell_type": "code",
   "execution_count": 7,
   "metadata": {},
   "outputs": [],
   "source": [
    "# descifra un mensaje \n",
    "# jjj no se hacerlo\n",
    "def descifrar(cifrado, sk, pk):\n",
    "    descifrado = []\n",
    "    n = len(pk)\n",
    "    q = pk[n-2]\n",
    "    h = pk[n-1]\n",
    "    \n",
    "    # calculamos y'\n",
    "    yp = cifrado - h * sk[3] % (q**h - 1)\n",
    "    \n",
    "    # calculamos g^y' \n",
    "    \n",
    "    return m"
   ]
  },
  {
   "cell_type": "code",
   "execution_count": 8,
   "metadata": {},
   "outputs": [],
   "source": [
    "# calcula el número de fallos del resultado\n",
    "def comprobar(m, descifrado):    \n",
    "    vector_dif = []\n",
    "\n",
    "    for i in range(len(m)):\n",
    "        vector_dif.append(abs(m[i] - descifrado[i]))\n",
    "\n",
    "    return sum(vector_dif)"
   ]
  },
  {
   "cell_type": "code",
   "execution_count": 9,
   "metadata": {},
   "outputs": [],
   "source": [
    "def info():\n",
    "    print(\"Clave pública      :\", pk)\n",
    "    print(\"Clave privada      :\", sk)\n",
    "    print(\"Mensaje original   :\", m)\n",
    "    print(\"Mensaje cifrado    :\", cifrado)\n",
    "    print(\"Mensaje descifrado :\", descifrado)\n",
    "    print(\"Tamaño del mensaje :\", q)\n",
    "    print(\"Número de 1's      :\", h)\n",
    "    print(\"Errores totales    :\", errores)"
   ]
  },
  {
   "cell_type": "code",
   "execution_count": 10,
   "metadata": {},
   "outputs": [],
   "source": [
    "# MAIN"
   ]
  },
  {
   "cell_type": "code",
   "execution_count": 11,
   "metadata": {},
   "outputs": [
    {
     "name": "stdout",
     "output_type": "stream",
     "text": [
      "Criptosistema de Chor-Rivest\n",
      "Clave pública      : [944252842981779424248779, 944252842981779424248807, 944252842981779424248859, 944252842981779424248848, 944252842981779424248816, 944252842981779424248809, 944252842981779424248821, 944252842981779424248809, 944252842981779424248849, 944252842981779424248795, 944252842981779424248816, 944252842981779424248785, 944252842981779424248767, 944252842981779424248849, 944252842981779424248861, 944252842981779424248776, 944252842981779424248836, 944252842981779424248861, 944252842981779424248782, 944252842981779424248826, 944252842981779424248854, 944252842981779424248846, 944252842981779424248852, 944252842981779424248820, 944252842981779424248800, 944252842981779424248841, 944252842981779424248846, 944252842981779424248764, 944252842981779424248849, 944252842981779424248840, 944252842981779424248779, 944252842981779424248848, 944252842981779424248783, 944252842981779424248788, 944252842981779424248780, 944252842981779424248849, 944252842981779424248769, 944252842981779424248790, 944252842981779424248820, 944252842981779424248804, 944252842981779424248809, 944252842981779424248853, 944252842981779424248794, 944252842981779424248850, 944252842981779424248796, 944252842981779424248816, 944252842981779424248829, 944252842981779424248767, 944252842981779424248820, 944252842981779424248792, 944252842981779424248836, 944252842981779424248765, 944252842981779424248834, 944252842981779424248817, 944252842981779424248784, 944252842981779424248814, 944252842981779424248765, 944252842981779424248800, 944252842981779424248786, 944252842981779424248799, 944252842981779424248789, 944252842981779424248762, 944252842981779424248822, 944252842981779424248800, 944252842981779424248839, 944252842981779424248792, 944252842981779424248815, 944252842981779424248778, 944252842981779424248818, 944252842981779424248812, 944252842981779424248861, 944252842981779424248837, 944252842981779424248765, 944252842981779424248821, 944252842981779424248860, 944252842981779424248824, 944252842981779424248796, 944252842981779424248780, 944252842981779424248773, 944252842981779424248775, 944252842981779424248839, 944252842981779424248824, 944252842981779424248826, 944252842981779424248788, 944252842981779424248817, 944252842981779424248820, 944252842981779424248851, 944252842981779424248824, 944252842981779424248812, 944252842981779424248845, 944252842981779424248797, 944252842981779424248772, 944252842981779424248788, 944252842981779424248790, 944252842981779424248846, 944252842981779424248792, 944252842981779424248799, 944252842981779424248837, 944252842981779424248861, 944252842981779424248841, 944252842981779424248774, 944252842981779424248802, 944252842981779424248831, 103, 12]\n",
      "Clave privada      : [0, x, [6, 100, 71, 74, 7, 50, 19, 64, 13, 94, 103, 37, 90, 35, 92, 75, 24, 70, 32, 52, 14, 8, 99, 77, 61, 84, 28, 41, 43, 2, 79, 45, 39, 62, 5, 46, 97, 87, 55, 34, 25, 88, 65, 95, 91, 22, 57, 26, 4, 3, 36, 31, 60, 9, 17, 63, 82, 81, 98, 59, 33, 80, 89, 96, 72, 40, 47, 10, 23, 30, 18, 21, 73, 101, 15, 49, 58, 93, 29, 102, 66, 76, 78, 86, 44, 56, 11, 16, 68, 20, 42, 83, 69, 54, 51, 53, 48, 1, 85, 12, 67, 38, 27], 944252842981779424248761]\n",
      "Mensaje original   : [0, 0, 1, 0, 0, 0, 0, 0, 0, 0, 1, 0, 0, 0, 1, 0, 0, 0, 0, 0, 0, 1, 0, 0, 0, 0, 0, 0, 0, 0, 0, 0, 0, 1, 0, 0, 0, 0, 0, 0, 0, 0, 1, 0, 0, 1, 0, 0, 1, 1, 1, 0, 0, 0, 0, 0, 0, 0, 0, 0, 0, 0, 0, 0, 0, 0, 0, 1, 0, 0, 0, 0, 0, 0, 0, 0, 0, 0, 0, 0, 0, 0, 0, 0, 0, 0, 0, 0, 0, 0, 0, 0, 1, 0, 0, 0, 0, 0, 0, 0, 0, 0, 0]\n",
      "Mensaje cifrado    : 11331034115781353090985794\n",
      "Mensaje descifrado : [0, 0, 1, 0, 0, 0, 0, 0, 0, 0, 1, 0, 0, 0, 1, 0, 0, 0, 0, 0, 0, 1, 0, 0, 0, 0, 0, 0, 0, 0, 0, 0, 0, 1, 0, 0, 0, 0, 0, 0, 0, 0, 1, 0, 0, 1, 0, 0, 1, 1, 1, 0, 0, 0, 0, 0, 0, 0, 0, 0, 0, 0, 0, 0, 0, 0, 0, 1, 0, 0, 0, 0, 0, 0, 0, 0, 0, 0, 0, 0, 0, 0, 0, 0, 0, 0, 0, 0, 0, 0, 0, 0, 1, 0, 0, 0, 0, 0, 0, 0, 0, 0, 0]\n",
      "Tamaño del mensaje : 103\n",
      "Número de 1's      : 12\n",
      "Errores totales    : 0\n"
     ]
    }
   ],
   "source": [
    "print(\"Criptosistema de Chor-Rivest\")\n",
    "\n",
    "q = 103\n",
    "h = 12\n",
    "m = generarMensaje(q, h)\n",
    "\n",
    "[pk, sk]   = generarClaves(q, h)\n",
    "cifrado    = cifrar(m, pk)\n",
    "descifrado = descifrar(cifrado, sk, pk)\n",
    "errores    = comprobar(m, descifrado) \n",
    "info()"
   ]
  },
  {
   "cell_type": "code",
   "execution_count": 12,
   "metadata": {},
   "outputs": [],
   "source": [
    "# # jjj\n",
    "\n",
    "# q = 103\n",
    "# h = 12\n",
    "\n",
    "# # generamos el cuerpo finito F de q^h elementos\n",
    "# Fqh = GF(q**h, x)\n",
    "\n",
    "# # generamos el cuerpo finito F de q elementos\n",
    "# Fq = GF(q, x)\n",
    "\n",
    "# # generamos el anillo de polinomios de Fq\n",
    "# Fx = PolynomialRing(Fq, x)\n",
    "\n",
    "# pol_irred = Fx.irreducible_element(h)\n",
    "# print(pol_irred)\n",
    "# pol = Fqh.polynomial()\n",
    "# print(pol)\n",
    "# # pol == pol_irred !"
   ]
  }
 ],
 "metadata": {
  "kernelspec": {
   "display_name": "SageMath 9.3",
   "language": "sage",
   "name": "sagemath"
  },
  "language_info": {
   "codemirror_mode": {
    "name": "ipython",
    "version": 3
   },
   "file_extension": ".py",
   "mimetype": "text/x-python",
   "name": "python",
   "nbconvert_exporter": "python",
   "pygments_lexer": "ipython3",
   "version": "3.7.10"
  }
 },
 "nbformat": 4,
 "nbformat_minor": 4
}
