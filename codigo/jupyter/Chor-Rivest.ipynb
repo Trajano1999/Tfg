{
 "cells": [
  {
   "cell_type": "code",
   "execution_count": 1088,
   "metadata": {},
   "outputs": [],
   "source": [
    "# Criptosistema de Chor-Rivest\n",
    "# Juan Manuel Mateos Pérez"
   ]
  },
  {
   "cell_type": "code",
   "execution_count": 1089,
   "metadata": {},
   "outputs": [],
   "source": [
    "# jjj\n",
    "## Explicación :\n",
    "# En este programa estamos simulando el ataque mediante el método de Coster a una comunicación realizada usando el \n",
    "# criptosistema de Merkle-Hellman. El ataque utiliza únicamente los valores conocidos del criptosistema, que son la\n",
    "# clave pública y el mensaje cifrado. El programa obtiene como resultado un mensaje descifrado, el cual comprobaremos\n",
    "# si coincide con el original.\n",
    "\n",
    "## Ejecución :\n",
    "# Para ejecutar el programa, solo debemos descomentar el código del main que queramos utilizar:\n",
    "# (1) Si descomentamos la primera parte, podremos ejecutar el programa 1 vez y veremos todos los datos necesarios. Además, \n",
    "# podemos modificar el tamaño del mensaje (variable tam) y el número de iteraciones de la clave privada (variable it).\n",
    "# (2) Si por otro lado descomentamos la segunda parte, el programa se ejecuta p veces y mostrará un desglose de fallos, \n",
    "# vacios y errores de longitud cometidos. En este caso podemos modificar la variable p, que indica la cantidad de cripto-\n",
    "# sistemas que se van a ejecutar.\n",
    "# (3) Finalmente, si descomentamos la tercera parte, el programa ejecuta una función que mide el tiempo medio de ejecución\n",
    "# tras ejecutar el criptosistema p veces. Aquí, se puede modificar el tamaño del mensaje (variable tam) y el número de \n",
    "# ejecuciones totales (variable p)."
   ]
  },
  {
   "cell_type": "code",
   "execution_count": 1090,
   "metadata": {},
   "outputs": [],
   "source": [
    "# genera un mensaje aleatorio binario de tamaño q y exactamente h unos\n",
    "def generarMensaje(q, h):\n",
    "    mensaje = zero_vector(ZZ, q)\n",
    "    aleatorios = 0\n",
    "    \n",
    "    while aleatorios < h:\n",
    "        random = randint(0, q-1)\n",
    "        if mensaje[random] == 0:\n",
    "            mensaje[random] = 1\n",
    "            aleatorios += 1\n",
    "        \n",
    "    return mensaje"
   ]
  },
  {
   "cell_type": "code",
   "execution_count": 1091,
   "metadata": {},
   "outputs": [],
   "source": [
    "# genera la clave privada y púbica para el criptosistema\n",
    "def generarClaves(q, h):\n",
    "    \n",
    "    # generamos el cuerpo finito F de q^h elementos\n",
    "    Fqh = GF(q**h, x)\n",
    "    \n",
    "    # obtenemos el generador del grupo multiplicativo de Fqh\n",
    "    g = Fqh.multiplicative_generator()\n",
    "    \n",
    "#     # generamos el cuerpo finito F de q elementos\n",
    "#     Fq = GF(q, x)\n",
    "#     # calculamos los logaritmos necesarios\n",
    "#     logaritmos = []\n",
    "#     for el in Fq:\n",
    "#         logaritmos.append(log((t + el), g))\n",
    "    \n",
    "    # jjj cálculo de t\n",
    "    t = 0\n",
    "    logaritmos = [randint(1, q) for _ in range(q)]\n",
    "    \n",
    "    # aplicamos una permutación\n",
    "    logaritmos_reordenados = []\n",
    "    permutacion_aleatoria = Permutations(len(logaritmos)).random_element()\n",
    "    for i in permutacion_aleatoria:\n",
    "        logaritmos_reordenados.append(logaritmos[i-1])\n",
    "    \n",
    "    # generamos ruido\n",
    "    ruido = []\n",
    "    r = randint(0, q**h - 2)\n",
    "    for i in range(q):\n",
    "        ruido.append((logaritmos_reordenados[i] + r) % (q**h - 1))\n",
    "    \n",
    "    pk = ruido + [q, h]\n",
    "    sk = [t, g, permutacion_aleatoria, r]\n",
    "    return [pk, sk]"
   ]
  },
  {
   "cell_type": "code",
   "execution_count": 1092,
   "metadata": {},
   "outputs": [],
   "source": [
    "# cifra un mensaje\n",
    "def cifrar(m, pk):\n",
    "    cifrado = 0\n",
    "    n = len(pk)\n",
    "    \n",
    "    for i in range(q):\n",
    "        cifrado += (m[i] * pk[i]) % (pk[n-2]**pk[n-1] - 1)\n",
    "    \n",
    "    return cifrado"
   ]
  },
  {
   "cell_type": "code",
   "execution_count": 1093,
   "metadata": {},
   "outputs": [],
   "source": [
    "# descifra un mensaje\n",
    "def descifrar(cifrado, sk):\n",
    "    return 1"
   ]
  },
  {
   "cell_type": "code",
   "execution_count": 1094,
   "metadata": {},
   "outputs": [],
   "source": [
    "# calcula el número de fallos del resultado\n",
    "def comprobar(m, descifrado):    \n",
    "    vector_dif = []\n",
    "\n",
    "    for i in range(len(m)):\n",
    "        vector_dif.append(abs(m[i] - descifrado[i]))\n",
    "\n",
    "    return sum(vector_dif)"
   ]
  },
  {
   "cell_type": "code",
   "execution_count": 1095,
   "metadata": {},
   "outputs": [],
   "source": [
    "def info():\n",
    "    print(\"Clave pública      :\", pk)\n",
    "    print(\"Clave privada      :\", sk)\n",
    "    print(\"Mensaje original   :\", m)\n",
    "    print(\"Mensaje cifrado    :\", cifrado)\n",
    "    print(\"Mensaje descifrado :\", descifrado)\n",
    "    print(\"Tamaño del mensaje :\", q)\n",
    "    print(\"Número de 1's      :\", h)\n",
    "    print(\"Errores totales    :\", errores)"
   ]
  },
  {
   "cell_type": "code",
   "execution_count": null,
   "metadata": {},
   "outputs": [],
   "source": []
  },
  {
   "cell_type": "code",
   "execution_count": 1096,
   "metadata": {},
   "outputs": [],
   "source": [
    "# MAIN"
   ]
  },
  {
   "cell_type": "code",
   "execution_count": 1097,
   "metadata": {},
   "outputs": [
    {
     "name": "stdout",
     "output_type": "stream",
     "text": [
      "Criptosistema de Chor-Rivest\n",
      "Clave pública      : [414748008352422627948740, 414748008352422627948672, 414748008352422627948711, 414748008352422627948744, 414748008352422627948662, 414748008352422627948697, 414748008352422627948682, 414748008352422627948683, 414748008352422627948658, 414748008352422627948741, 414748008352422627948708, 414748008352422627948661, 414748008352422627948667, 414748008352422627948719, 414748008352422627948750, 414748008352422627948754, 414748008352422627948662, 414748008352422627948712, 414748008352422627948719, 414748008352422627948678, 414748008352422627948736, 414748008352422627948738, 414748008352422627948683, 414748008352422627948700, 414748008352422627948740, 414748008352422627948749, 414748008352422627948685, 414748008352422627948694, 414748008352422627948673, 414748008352422627948717, 414748008352422627948740, 414748008352422627948691, 414748008352422627948686, 414748008352422627948683, 414748008352422627948688, 414748008352422627948698, 414748008352422627948698, 414748008352422627948675, 414748008352422627948739, 414748008352422627948680, 414748008352422627948664, 414748008352422627948729, 414748008352422627948676, 414748008352422627948710, 414748008352422627948657, 414748008352422627948701, 414748008352422627948756, 414748008352422627948753, 414748008352422627948673, 414748008352422627948681, 414748008352422627948691, 414748008352422627948666, 414748008352422627948715, 414748008352422627948719, 414748008352422627948689, 414748008352422627948715, 414748008352422627948654, 414748008352422627948742, 414748008352422627948741, 414748008352422627948699, 414748008352422627948755, 414748008352422627948686, 414748008352422627948715, 414748008352422627948717, 414748008352422627948716, 414748008352422627948671, 414748008352422627948703, 414748008352422627948685, 414748008352422627948721, 414748008352422627948690, 414748008352422627948716, 414748008352422627948659, 414748008352422627948673, 414748008352422627948673, 414748008352422627948721, 414748008352422627948742, 414748008352422627948746, 414748008352422627948665, 414748008352422627948680, 414748008352422627948663, 414748008352422627948668, 414748008352422627948654, 414748008352422627948674, 414748008352422627948714, 414748008352422627948734, 414748008352422627948684, 414748008352422627948685, 414748008352422627948661, 414748008352422627948750, 414748008352422627948684, 414748008352422627948716, 414748008352422627948670, 414748008352422627948690, 414748008352422627948676, 414748008352422627948700, 414748008352422627948679, 414748008352422627948721, 414748008352422627948715, 414748008352422627948730, 414748008352422627948715, 414748008352422627948746, 414748008352422627948677, 414748008352422627948755, 103, 12]\n",
      "Clave privada      : [0, x, [82, 77, 16, 52, 48, 42, 25, 37, 92, 64, 41, 62, 8, 66, 76, 10, 20, 99, 4, 40, 32, 39, 84, 47, 85, 87, 93, 59, 22, 74, 72, 21, 78, 3, 19, 45, 88, 27, 101, 51, 23, 24, 65, 75, 36, 50, 57, 5, 13, 2, 43, 35, 55, 60, 18, 67, 80, 9, 63, 49, 30, 91, 58, 33, 28, 68, 12, 97, 11, 1, 46, 71, 6, 54, 98, 26, 38, 89, 61, 100, 94, 81, 90, 31, 34, 17, 86, 15, 70, 14, 103, 79, 29, 56, 102, 53, 44, 73, 96, 7, 95, 69, 83], 414748008352422627948653]\n",
      "Mensaje original   : (0, 0, 0, 0, 0, 0, 0, 0, 0, 0, 1, 0, 0, 0, 0, 0, 1, 0, 0, 0, 0, 0, 0, 0, 0, 0, 0, 0, 0, 0, 0, 0, 0, 0, 0, 0, 0, 0, 0, 0, 0, 1, 1, 1, 0, 0, 0, 0, 0, 1, 0, 0, 0, 0, 0, 0, 0, 0, 0, 0, 0, 0, 0, 0, 0, 0, 0, 0, 0, 0, 1, 0, 0, 1, 0, 0, 0, 1, 0, 0, 1, 1, 0, 0, 0, 1, 0, 0, 0, 0, 0, 0, 0, 0, 0, 0, 0, 0, 0, 0, 0, 0, 0)\n",
      "Mensaje cifrado    : 4976976100229071535384226\n",
      "Mensaje descifrado : 1\n",
      "Tamaño del mensaje : 103\n",
      "Número de 1's      : 12\n",
      "Errores totales    : 0\n"
     ]
    }
   ],
   "source": [
    "print(\"Criptosistema de Chor-Rivest\")\n",
    "\n",
    "q = 103\n",
    "h = 12\n",
    "m = generarMensaje(q, h)\n",
    "\n",
    "[pk, sk]   = generarClaves(q, h)\n",
    "cifrado    = cifrar(m, pk)\n",
    "descifrado = descifrar(cifrado, sk)\n",
    "errores    = comprobar(m, m) \n",
    "info()"
   ]
  },
  {
   "cell_type": "code",
   "execution_count": 1098,
   "metadata": {},
   "outputs": [],
   "source": [
    "# # jjj\n",
    "\n",
    "# q = 103\n",
    "# h = 12\n",
    "\n",
    "# # generamos el cuerpo finito F de q^h elementos\n",
    "# Fqh = GF(q**h, x)\n",
    "\n",
    "# # generamos el cuerpo finito F de q elementos\n",
    "# Fq = GF(q, x)\n",
    "\n",
    "# # generamos el anillo de polinomios de Fq\n",
    "# Fx = PolynomialRing(Fq, x)\n",
    "\n",
    "# # obtenemos t\n",
    "# pol_irred = Fx.irreducible_element(h)\n",
    "# t = pol_irred.roots()\n",
    "# print(pol_irred)\n",
    "# print(t)\n",
    "\n",
    "# # tomamos un elemento aleatorio\n",
    "# mio = Fqh.polynomial()\n",
    "# print(mio)\n",
    "\n",
    "# # mio1 == pol_irred !! "
   ]
  }
 ],
 "metadata": {
  "kernelspec": {
   "display_name": "SageMath 9.3",
   "language": "sage",
   "name": "sagemath"
  },
  "language_info": {
   "codemirror_mode": {
    "name": "ipython",
    "version": 3
   },
   "file_extension": ".py",
   "mimetype": "text/x-python",
   "name": "python",
   "nbconvert_exporter": "python",
   "pygments_lexer": "ipython3",
   "version": "3.7.10"
  }
 },
 "nbformat": 4,
 "nbformat_minor": 4
}
