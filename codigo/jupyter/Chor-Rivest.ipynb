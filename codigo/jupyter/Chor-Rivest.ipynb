{
 "cells": [
  {
   "cell_type": "code",
   "execution_count": 620,
   "metadata": {},
   "outputs": [],
   "source": [
    "# Criptosistema de Chor-Rivest\n",
    "# Juan Manuel Mateos Pérez"
   ]
  },
  {
   "cell_type": "code",
   "execution_count": 621,
   "metadata": {},
   "outputs": [],
   "source": [
    "## Explicación :\n",
    "# En este programa estamos simulando el envío de información entre dos usuarios. \n",
    "# En primer lugar, se genera un mensaje aleatorio binario. Este mensaje es de tamaño q y tiene tantos 1's como h indique.\n",
    "# Ambos valores pueden ser modificados desde el main. \n",
    "# Luego, se generan las dos claves, tanto la pública como la privada, a partir de los valores anteriores.\n",
    "# A continuación se produce el cifrado, utilizando el mensaje generado y la clave pública. \n",
    "# Posteriormente, procedemos a descifrar ese mensaje gracias a la clave privada.\n",
    "# Por último, se ejecuta una función que calcula el número de errores cometidos.\n",
    "\n",
    "## Ejecución :\n",
    "# jjj"
   ]
  },
  {
   "cell_type": "code",
   "execution_count": 622,
   "metadata": {},
   "outputs": [],
   "source": [
    "# genera un mensaje aleatorio binario de tamaño q y exactamente h unos\n",
    "def generarMensaje(q, h):\n",
    "    mensaje = zero_vector(ZZ, q)\n",
    "    aleatorios = 0\n",
    "    \n",
    "    while aleatorios < h:\n",
    "        random = randint(0, q-1)\n",
    "        if mensaje[random] == 0:\n",
    "            mensaje[random] = 1\n",
    "            aleatorios += 1\n",
    "        \n",
    "    return list(mensaje)"
   ]
  },
  {
   "cell_type": "code",
   "execution_count": 623,
   "metadata": {},
   "outputs": [
    {
     "ename": "IndentationError",
     "evalue": "expected an indented block (<ipython-input-623-8d3559d0fc2f>, line 79)",
     "output_type": "error",
     "traceback": [
      "\u001b[0;36m  File \u001b[0;32m\"<ipython-input-623-8d3559d0fc2f>\"\u001b[0;36m, line \u001b[0;32m79\u001b[0m\n\u001b[0;31m    generarClaves(Integer(19), Integer(6))\u001b[0m\n\u001b[0m                ^\u001b[0m\n\u001b[0;31mIndentationError\u001b[0m\u001b[0;31m:\u001b[0m expected an indented block\n"
     ]
    }
   ],
   "source": [
    "# genera la clave privada y púbica para el criptosistema\n",
    "def generarClaves(q, h):\n",
    "    \n",
    "#     # generamos el cuerpo finito F de q^h elementos\n",
    "#     Fqh = GF(q**h, x)\n",
    "    \n",
    "#     # obtenemos el generador del grupo multiplicativo de Fqh\n",
    "#     g = Fqh.multiplicative_generator()\n",
    "    \n",
    "# #     # generamos el cuerpo finito F de q elementos\n",
    "# #     Fq = GF(q, x)\n",
    "# #     # calculamos los logaritmos necesarios\n",
    "# #     logaritmos = []\n",
    "# #     for i in Fq:\n",
    "# #         logaritmos.append(log((t + i), g))\n",
    "    \n",
    "#     # jjj no se calcular t\n",
    "#     t = 0\n",
    "#     logaritmos = [randint(1, q) for _ in range(q)]\n",
    "    \n",
    "#     # aplicamos una permutación\n",
    "#     logaritmos_reordenados = []\n",
    "#     permutacion_aleatoria = Permutations(len(logaritmos)).random_element()\n",
    "#     for i in permutacion_aleatoria:\n",
    "#         logaritmos_reordenados.append(logaritmos[i-1])\n",
    "    \n",
    "#     # generamos ruido\n",
    "#     ruido = []\n",
    "#     r = randint(0, q**h - 2)\n",
    "#     for i in range(q):\n",
    "#         ruido.append((logaritmos_reordenados[i] + r) % (q**h - 1))\n",
    "    \n",
    "#     pk = ruido + [q, h]\n",
    "#     sk = [t, g, permutacion_aleatoria, r]\n",
    "#     return [pk, sk]\n",
    "\n",
    "# --------------------------------------------------------------------------------------------\n",
    "#     # generamos el cuerpo F de q^h elementos\n",
    "#     Fqh = GF(q**h, 'x')\n",
    "#     Fq = GF(q, 'x')\n",
    "    \n",
    "#     elem = Fqh.random_element()\n",
    "#     Fx.<x> = PolynomialRing(Fq)\n",
    "#     g = Fx(elem)\n",
    "    \n",
    "#     g_auto = Fqh.polynomial()\n",
    "#     print(\"g      :\", g, g.is_irreducible())\n",
    "#     print(\"g auto :\", g_auto, g_auto.is_irreducible())\n",
    "    \n",
    "#     f = x^6 + 14*x^5 + 12*x^4 + 6*x^3 + 4*x^2 + 15*x + 4\n",
    "#     print(\"f      :\", f, f.is_irreducible())\n",
    "    \n",
    "#     print(factor(g))\n",
    "    \n",
    "# --------------------------------------------------------------------------------------------\n",
    "#     Fqh = GF(q**h, 'x')\n",
    "#     Fq  = GF(q, 'x')\n",
    "    \n",
    "#     t = Fqh.random_element()\n",
    "#     Fqx.<x> = PolynomialRing(Fq)\n",
    "#     while True:\n",
    "#         pol = Fqx.random_element(h).monic()\n",
    "#         if pol.is_irreducible():\n",
    "#             break\n",
    "#     print(\"pol :\", pol, pol.is_irreducible())\n",
    "    \n",
    "#     t1 = Fqh(pol)\n",
    "#     print(\"t1  :\", t1)\n",
    "#     t12 = factor(t1)\n",
    "#     print(\"t2  :\", t12)\n",
    "    \n",
    "# #     while True:\n",
    "# #         r = Fqh.random_element()\n",
    "# #         s = factor(p**h-1)\n",
    "# #         print(s)\n",
    "# #         if r**((p**h-1)/s) != 1:\n",
    "# #             break\n",
    "    \n",
    "# generarClaves(19, 6)"
   ]
  },
  {
   "cell_type": "code",
   "execution_count": null,
   "metadata": {},
   "outputs": [],
   "source": [
    "# Importar la clase 'GF' para crear cuerpos finitos y la función 'random_element' para generar elementos aleatorios\n",
    "from sage.rings.finite_rings.finite_field_constructor import FiniteField as GF\n",
    "\n",
    "def generador(q, h):\n",
    "    # Crear el cuerpo finito F_{q^h}\n",
    "    Fqh = GF(q**h, 'x')\n",
    "    \n",
    "    # Generar un elemento aleatorio del grupo finito\n",
    "    g = Fqh.random_element()\n",
    "    \n",
    "    # Definir el polinomio en el generador\n",
    "    R.<x> = PolynomialRing(Fqh)\n",
    "    polinomio_generador = R(g)\n",
    "    \n",
    "    return polinomio_generador\n",
    "\n",
    "# Ejemplo con q=19, h=6\n",
    "q = 19\n",
    "h = 6\n",
    "generador_qh = generador(q, h)\n",
    "\n",
    "print(f\"Generador del grupo finito F_{q}^{h}: {generador_qh}\")\n"
   ]
  },
  {
   "cell_type": "code",
   "execution_count": null,
   "metadata": {},
   "outputs": [],
   "source": [
    "# cifra un mensaje\n",
    "def cifrar(m, pk):\n",
    "    cifrado = 0\n",
    "    n = len(pk)\n",
    "    \n",
    "    for i in range(q):\n",
    "        cifrado += (m[i] * pk[i]) % (pk[n-2]**pk[n-1] - 1)\n",
    "    \n",
    "    return cifrado"
   ]
  },
  {
   "cell_type": "code",
   "execution_count": null,
   "metadata": {},
   "outputs": [],
   "source": [
    "# descifra un mensaje \n",
    "# jjj no se hacerlo\n",
    "def descifrar(cifrado, sk, pk):\n",
    "    descifrado = []\n",
    "    n = len(pk)\n",
    "    q = pk[n-2]\n",
    "    h = pk[n-1]\n",
    "    \n",
    "    # calculamos y'\n",
    "    yp = cifrado - h * sk[3] % (q**h - 1)\n",
    "    \n",
    "    # calculamos g^y' \n",
    "    \n",
    "    return m"
   ]
  },
  {
   "cell_type": "code",
   "execution_count": null,
   "metadata": {},
   "outputs": [],
   "source": [
    "# calcula el número de fallos del resultado\n",
    "def comprobar(m, descifrado):    \n",
    "    vector_dif = []\n",
    "\n",
    "    for i in range(len(m)):\n",
    "        vector_dif.append(abs(m[i] - descifrado[i]))\n",
    "\n",
    "    return sum(vector_dif)"
   ]
  },
  {
   "cell_type": "code",
   "execution_count": null,
   "metadata": {},
   "outputs": [],
   "source": [
    "def info():\n",
    "    print()\n",
    "    print(\"Clave pública      :\", pk)\n",
    "    print(\"Clave privada      :\", sk)\n",
    "    print(\"Mensaje original   :\", m)\n",
    "    print(\"Mensaje cifrado    :\", cifrado)\n",
    "    print(\"Mensaje descifrado :\", descifrado)\n",
    "    print(\"Tamaño del mensaje :\", q)\n",
    "    print(\"Número de 1's      :\", h)\n",
    "    print(\"Errores totales    :\", errores)"
   ]
  },
  {
   "cell_type": "code",
   "execution_count": null,
   "metadata": {},
   "outputs": [],
   "source": [
    "# MAIN"
   ]
  },
  {
   "cell_type": "code",
   "execution_count": null,
   "metadata": {},
   "outputs": [],
   "source": [
    "print(\"Criptosistema de Chor-Rivest\")\n",
    "\n",
    "q = 19\n",
    "h = 6\n",
    "m = generarMensaje(q, h)\n",
    "\n",
    "[pk, sk]   = generarClaves(q, h)\n",
    "cifrado    = cifrar(m, pk)\n",
    "descifrado = descifrar(cifrado, sk, pk)\n",
    "errores    = comprobar(m, descifrado) \n",
    "info()"
   ]
  },
  {
   "cell_type": "code",
   "execution_count": null,
   "metadata": {},
   "outputs": [],
   "source": [
    "# # jjj\n",
    "\n",
    "# q = 103\n",
    "# h = 12\n",
    "\n",
    "# # generamos el cuerpo finito F de q^h elementos\n",
    "# Fqh = GF(q**h, x)\n",
    "\n",
    "# # generamos el cuerpo finito F de q elementos\n",
    "# Fq = GF(q, x)\n",
    "\n",
    "# # generamos el anillo de polinomios de Fq\n",
    "# Fx = PolynomialRing(Fq, x)\n",
    "\n",
    "# pol_irred = Fx.irreducible_element(h)\n",
    "# print(pol_irred)\n",
    "# pol = Fqh.polynomial()\n",
    "# print(pol)\n",
    "# # pol == pol_irred !"
   ]
  }
 ],
 "metadata": {
  "kernelspec": {
   "display_name": "SageMath 9.3",
   "language": "sage",
   "name": "sagemath"
  },
  "language_info": {
   "codemirror_mode": {
    "name": "ipython",
    "version": 3
   },
   "file_extension": ".py",
   "mimetype": "text/x-python",
   "name": "python",
   "nbconvert_exporter": "python",
   "pygments_lexer": "ipython3",
   "version": "3.7.10"
  }
 },
 "nbformat": 4,
 "nbformat_minor": 4
}
