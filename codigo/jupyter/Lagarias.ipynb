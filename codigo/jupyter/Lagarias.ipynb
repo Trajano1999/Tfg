{
 "cells": [
  {
   "cell_type": "code",
   "execution_count": 1,
   "metadata": {},
   "outputs": [],
   "source": [
    "# Ataque de Lagarias al criptosistema de Merkle-Hellman\n",
    "# Juan Manuel Mateos Pérez"
   ]
  },
  {
   "cell_type": "code",
   "execution_count": 2,
   "metadata": {},
   "outputs": [],
   "source": [
    "## Explicación :\n",
    "# En este programa estamos simulando el ataque mediante el método de Lagarías a una comunicación realizada usando el \n",
    "# criptosistema de Merkle-Hellman. El ataque utiliza únicamente los valores conocidos del criptosistema, que son la \n",
    "# clave pública y el mensaje cifrado. El programa obtiene como resultado un mensaje descifrado, el cual comprobaremos \n",
    "# si coincide con el original.\n",
    "\n",
    "## Ejecución :\n",
    "# Para ejecutar el programa, solo debemos descomentar el código del main que queramos utilizar:\n",
    "# (1) Si descomentamos la primera parte, podremos ejecutar el programa 1 vez y veremos todos los datos necesarios. Además, \n",
    "# podemos modificar el tamaño del mensaje (variable tam) y el número de iteraciones de la clave privada (variable it).\n",
    "# (2) Si por otro lado descomentamos la segunda parte, el programa se ejecuta p veces y mostrará un desglose de fallos, \n",
    "# vacios y errores de longitud cometidos. En este caso podemos modificar la variable p, que indica la cantidad de cripto-\n",
    "# sistemas que se van a ejecutar."
   ]
  },
  {
   "cell_type": "code",
   "execution_count": 3,
   "metadata": {},
   "outputs": [],
   "source": [
    "# Importamos el método de Merkle-Hellman\n",
    "load(\"Merkle-Hellman_iterativo.py\")"
   ]
  },
  {
   "cell_type": "code",
   "execution_count": 4,
   "metadata": {},
   "outputs": [],
   "source": [
    "# ATAQUE DE LAGARIAS"
   ]
  },
  {
   "cell_type": "code",
   "execution_count": 5,
   "metadata": {},
   "outputs": [],
   "source": [
    "# Genera la matriz necesaria para aplicar Lagarias\n",
    "# paso == 0 indica generar la matriz inicial, paso != 0 indica generar la matriz del caso 4\n",
    "def generarMatriz(pk, s, paso):\n",
    "    n = len(pk)\n",
    "    filas = []\n",
    "    \n",
    "    # generamos los n primeros vectores\n",
    "    for i in range(0, n):\n",
    "        aux = zero_vector(n+1)\n",
    "        aux[i] = 1\n",
    "        aux[n] = pk[i]*(-1)\n",
    "        filas.append(aux)\n",
    "\n",
    "    # generamos el vector n+1\n",
    "    b = zero_vector(n+1)\n",
    "    if paso == 0:\n",
    "        b[n] = s\n",
    "    else:\n",
    "        b[n] = sum(pk) - s\n",
    "    filas.append(b)\n",
    "    \n",
    "    return Matrix(filas)"
   ]
  },
  {
   "cell_type": "code",
   "execution_count": 6,
   "metadata": {},
   "outputs": [],
   "source": [
    "# Encuentra una solución en la matriz recibida\n",
    "def buscarSolucion(matriz, pk, s):\n",
    "    n = matriz.nrows()\n",
    "    sol_encontrada = False\n",
    "    solucion = []\n",
    "    \n",
    "    # compruebo si alguna fila es solución sin aplicar nada\n",
    "    for j in range(n):\n",
    "        if sol_encontrada == False:\n",
    "            suma = 0\n",
    "            fila = matriz[j]\n",
    "        \n",
    "            for i in range(len(fila)-1):\n",
    "                aux = fila[i]\n",
    "                if fila[i] < 0:\n",
    "                    aux = 0\n",
    "                suma += pk[i]*aux\n",
    "            if suma == s:\n",
    "                sol_encontrada = True\n",
    "                solucion = fila[:-1]\n",
    "        \n",
    "    # compruebo si alguna fila es solución tras dividir por un lambda fijo\n",
    "    if sol_encontrada == False:\n",
    "        for j in range(n):\n",
    "            if sol_encontrada == False:\n",
    "                suma = 0\n",
    "                fila = matriz[j]\n",
    "                den  = 1\n",
    "                den_encontrado = False\n",
    "                \n",
    "                for i in range(len(fila)-1):\n",
    "                    if fila[i] > 0 and den_encontrado == False:\n",
    "                        den = fila[i]\n",
    "                        den_encontrado = True\n",
    "                    aux = fila[i] // den\n",
    "                    if aux < 0:\n",
    "                        aux = 0\n",
    "                    suma += pk[i]*aux\n",
    "                    solucion.append(aux)\n",
    "                if suma == s:\n",
    "                    sol_encontrada = True\n",
    "                else:\n",
    "                    solucion = []\n",
    "\n",
    "    solucion = list(solucion)\n",
    "    return solucion"
   ]
  },
  {
   "cell_type": "code",
   "execution_count": 7,
   "metadata": {},
   "outputs": [],
   "source": [
    "# Intercambia los 0 por 1 y viceversa en una matriz\n",
    "def cambiarMatriz(matriz):\n",
    "    matriz_res = copy(matriz)\n",
    "\n",
    "    for i in range(matriz.nrows()):\n",
    "        for j in range(matriz.ncols()-1):\n",
    "            if matriz[i, j] == 0:\n",
    "                matriz_res[i, j] = 1\n",
    "            elif matriz[i, j] == 1:\n",
    "                matriz_res[i, j] = 0\n",
    "    \n",
    "    return matriz_res"
   ]
  },
  {
   "cell_type": "code",
   "execution_count": 8,
   "metadata": {},
   "outputs": [],
   "source": [
    "# Aplica el ataque de Lagarias\n",
    "def ataqueLagarias(pk, s):\n",
    "    n = len(pk)\n",
    "    encontrado = False\n",
    "    solucion = []\n",
    "    \n",
    "    # generamos la matriz\n",
    "    matriz_ini = generarMatriz(pk, s, 0)\n",
    "    # aplicamos LLL\n",
    "    matriz_res = matriz_ini.LLL()\n",
    "    # buscamos una solución\n",
    "    solucion = buscarSolucion(matriz_res, pk, s)\n",
    "    \n",
    "    # cambiamos los 0 por 1 y viceversa\n",
    "    if len(solucion) == 0:\n",
    "        matriz_cambio = cambiarMatriz(matriz_res)\n",
    "        solucion = buscarSolucion(matriz_cambio, pk, s)\n",
    "    \n",
    "    # caso 4 del algoritmo\n",
    "    if len(solucion) == 0:\n",
    "        matriz_ini = generarMatriz(pk, s, 1)\n",
    "        matriz_res = matriz_ini.LLL() \n",
    "        solucion = buscarSolucion(matriz_res, pk, s)\n",
    "        \n",
    "        # cambiamos los 0 por 1 y viceversa\n",
    "        if len(solucion) == 0:\n",
    "            matriz_cambio = cambiarMatriz(matriz_res)\n",
    "            solucion = buscarSolucion(matriz_cambio, pk, s)\n",
    "        \n",
    "    return solucion"
   ]
  },
  {
   "cell_type": "code",
   "execution_count": 9,
   "metadata": {},
   "outputs": [],
   "source": [
    "# Calcula el número de errores cometidos\n",
    "def comprobarErrores(men_orig, men_obt):\n",
    "    n = len(men_orig)\n",
    "    vector_dif = []\n",
    "\n",
    "    if len(men_obt) == 0:\n",
    "        return len(men_orig)\n",
    "\n",
    "    for i in range(0, n):\n",
    "        vector_dif.append(abs(men_orig[i] - men_obt[i]))\n",
    "\n",
    "    return sum(vector_dif)"
   ]
  },
  {
   "cell_type": "code",
   "execution_count": 10,
   "metadata": {},
   "outputs": [],
   "source": [
    "# DATOS DE SALIDA"
   ]
  },
  {
   "cell_type": "code",
   "execution_count": 11,
   "metadata": {},
   "outputs": [],
   "source": [
    "# ejecuta y muestra los datos tras aplicar una iteración\n",
    "def unaIteracion(tam, it):\n",
    "    merkle_hellman = Merkle_Hellman(tam, it)\n",
    "    merkle_hellman.do()\n",
    "\n",
    "    pk = merkle_hellman.pk\n",
    "    s  = merkle_hellman.s\n",
    "\n",
    "    lagarias = ataqueLagarias(pk, s)\n",
    "\n",
    "    print()\n",
    "    print(\"Clave pública      :\", merkle_hellman.pk)\n",
    "    print(\"Mensaje original   :\", merkle_hellman.mensaje)\n",
    "    print(\"Mensaje cifrado    :\", merkle_hellman.s)\n",
    "    print(\"Mensaje descifrado :\", lagarias)\n",
    "    print(\"Tamaño mensaje     :\", tam)\n",
    "    print(\"Número iteraciones :\", it)\n",
    "    print(\"Errores totales    :\", comprobarErrores(merkle_hellman.mensaje, lagarias))"
   ]
  },
  {
   "cell_type": "code",
   "execution_count": 12,
   "metadata": {},
   "outputs": [],
   "source": [
    "# ejecuta y muestra los datos tras aplicar n iteraciones\n",
    "def variasIteraciones(n):\n",
    "    errores  = 0\n",
    "    err_long = 0\n",
    "    vacios   = 0\n",
    "    densidad = 0\n",
    "\n",
    "    print(\"Iteración \\t Tamaño vector \\t Número Iteraciones \\t Densidad \\t\\tResultado\")\n",
    "    for i in range(p):\n",
    "        print(i+1, end = \"\")\n",
    "\n",
    "        tam = random.randint(3, 100)\n",
    "        print(\"\\t\\t\", tam, end=\"\")\n",
    "\n",
    "        it = random.randint(0, 3)\n",
    "        print(\"\\t\\t\", it, end=\"\")\n",
    "\n",
    "        merkle_hellman = Merkle_Hellman(tam, it)\n",
    "        merkle_hellman.do()\n",
    "\n",
    "        densidad = RR(merkle_hellman.tamano / log(max(merkle_hellman.pk), 2))\n",
    "        print(\"\\t\\t\\t\", densidad, end=\"\")\n",
    "\n",
    "        lagarias = ataqueLagarias(merkle_hellman.pk, merkle_hellman.s)\n",
    "        if len(lagarias) == 0:\n",
    "            vacios += 1\n",
    "            print(\"\\tvacio\")\n",
    "        elif len(lagarias) != len(merkle_hellman.mensaje):\n",
    "            err_long += 1\n",
    "            print(\"\\terror longitud\")\n",
    "        else:\n",
    "            valor = comprobarErrores(merkle_hellman.mensaje, lagarias)\n",
    "            errores += valor\n",
    "            if valor != 0:\n",
    "                print(\"\\terror valor\")\n",
    "            else:\n",
    "                print(\"\\tobtenido\")\n",
    "\n",
    "    print(\"\\nErrores totales  tras\", p, \"iteraciones :\", errores)\n",
    "    print(\"Vacios  totales  tras\", p, \"iteraciones :\", vacios)\n",
    "    print(\"Errores longitud tras\", p, \"iteraciones :\", err_long)"
   ]
  },
  {
   "cell_type": "code",
   "execution_count": 13,
   "metadata": {},
   "outputs": [],
   "source": [
    "# MAIN"
   ]
  },
  {
   "cell_type": "code",
   "execution_count": 14,
   "metadata": {
    "scrolled": true
   },
   "outputs": [
    {
     "name": "stdout",
     "output_type": "stream",
     "text": [
      "Ataque Lagarias\n"
     ]
    }
   ],
   "source": [
    "print(\"Ataque Lagarias\")\n",
    "\n",
    "# ---------- descomentar para realizar 1 ejecución aleatoria ----------\n",
    "# tam = random.randint(3, 100)\n",
    "# it  = random.randint(0, 3)\n",
    "# unaIteracion(tam, it)\n",
    "\n",
    "# ---------- descomentar para realizar p ejecuciones aleatorias ----------\n",
    "# p = 10\n",
    "# variasIteraciones(p)"
   ]
  }
 ],
 "metadata": {
  "kernelspec": {
   "display_name": "SageMath 9.3",
   "language": "sage",
   "name": "sagemath"
  },
  "language_info": {
   "codemirror_mode": {
    "name": "ipython",
    "version": 3
   },
   "file_extension": ".py",
   "mimetype": "text/x-python",
   "name": "python",
   "nbconvert_exporter": "python",
   "pygments_lexer": "ipython3",
   "version": "3.7.10"
  }
 },
 "nbformat": 4,
 "nbformat_minor": 4
}
