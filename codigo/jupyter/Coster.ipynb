{
 "cells": [
  {
   "cell_type": "code",
   "execution_count": 247,
   "metadata": {},
   "outputs": [],
   "source": [
    "# Ataque de Coster al criptosistema de Merkle-Hellman\n",
    "# Juan Manuel Mateos Pérez"
   ]
  },
  {
   "cell_type": "code",
   "execution_count": 248,
   "metadata": {},
   "outputs": [],
   "source": [
    "## Explicación :\n",
    "# En este programa estamos simulando el ataque mediante el método de Coster a una comunicación realizada usando el \n",
    "# criptosistema de Merkle-Hellman. El ataque utiliza únicamente los valores conocidos del criptosistema, que son la\n",
    "# clave pública y el mensaje cifrado. El programa obtiene como resultado un mensaje descifrado, el cual comprobaremos\n",
    "# si coincide con el original.\n",
    "\n",
    "## Ejecución :\n",
    "# Para ejecutar el programa, solo debemos descomentar el código del main y el import que queramos utilizar:\n",
    "# (1) Si descomentamos la primera parte, podremos ejecutar el programa 1 vez y veremos todos los datos necesarios. Además, \n",
    "# podemos modificar el tamaño del mensaje (variable tam) y el número de iteraciones de la clave privada (variable it).\n",
    "# (2) Si por otro lado descomentamos la segunda parte, el programa se ejecuta p veces y mostrará un desglose de fallos, \n",
    "# vacios y errores de longitud cometidos. En este caso podemos modificar la variable p, que indica la cantidad de cripto-\n",
    "# sistemas que se van a ejecutar.\n",
    "# (3) Finalmente, si descomentamos la tercera parte, el programa ejecuta una función que genera varios criptosistemas con\n",
    "# con distintas densidades para así analizar el rendimiento del algoritmo. Aquí, se puede modificar el tamaño del mensaje \n",
    "# (variable tam), el número de ejecuciones totales (variable it) y el nombre del archivo donde debe mostrar los datos \n",
    "# (variable archivo)."
   ]
  },
  {
   "cell_type": "code",
   "execution_count": 249,
   "metadata": {},
   "outputs": [],
   "source": [
    "# Importamos el método de Merkle-Hellman\n",
    "# load(\"MH_Lagarias_Coster.py\")                        # descomentar para ejecutar las dos primeras partes del Main\n",
    "# load(\"MH_Grafica_Coster.py\")                         # descomentar para ejecutar la tercera parte del Main"
   ]
  },
  {
   "cell_type": "code",
   "execution_count": 250,
   "metadata": {},
   "outputs": [],
   "source": [
    "# ATAQUE DE COSTER"
   ]
  },
  {
   "cell_type": "code",
   "execution_count": 251,
   "metadata": {},
   "outputs": [],
   "source": [
    "# Genera la matriz necesaria para aplicar Coster\n",
    "def generarMatriz(pk, s):\n",
    "    n = len(pk)\n",
    "    N = random.randint(int((1/2)*sqrt(n)), int(sqrt(n)))\n",
    "    filas = []\n",
    "    \n",
    "    # generamos los n primeros vectores\n",
    "    for i in range(0, n):\n",
    "        aux = zero_vector(n+1)\n",
    "        aux[i] = 1\n",
    "        aux[n] = pk[i]*N\n",
    "        filas.append(aux)\n",
    "\n",
    "    # generamos el vector n+1\n",
    "    b = []\n",
    "    for i in range(n+1):\n",
    "        b.append(1/2)\n",
    "    b[n] = s*N\n",
    "        \n",
    "    filas.append(b)\n",
    "    \n",
    "    return Matrix(filas)"
   ]
  },
  {
   "cell_type": "code",
   "execution_count": 252,
   "metadata": {},
   "outputs": [],
   "source": [
    "# Encuentra una solución en la matriz recibida\n",
    "def buscarSolucion(matriz, pk, s):\n",
    "    n = matriz.nrows()\n",
    "    sol_encontrada = False\n",
    "    solucion = []\n",
    "    \n",
    "    for j in range(n):\n",
    "        if sol_encontrada == False:\n",
    "            suma = 0\n",
    "            fila = matriz[j]\n",
    "        \n",
    "            for i in range(len(fila)-1):\n",
    "                aux = fila[i] + (1/2)\n",
    "                if aux < 0:\n",
    "                    aux = 0\n",
    "                suma += pk[i]*aux\n",
    "                solucion.append(aux)\n",
    "            if suma == s:\n",
    "                sol_encontrada = True\n",
    "            else:\n",
    "                solucion = []\n",
    "\n",
    "    solucion = list(solucion)\n",
    "    return solucion"
   ]
  },
  {
   "cell_type": "code",
   "execution_count": 253,
   "metadata": {},
   "outputs": [],
   "source": [
    "# Intercambia los 1/2 por -1/2 y viceversa en una matriz\n",
    "def cambiarMatriz(matriz):\n",
    "    matriz_res = copy(matriz)\n",
    "\n",
    "    for i in range(matriz.nrows()):\n",
    "        for j in range(matriz.ncols()-1):\n",
    "            if matriz[i, j] == 1/2:\n",
    "                matriz_res[i, j] = -1/2\n",
    "            elif matriz[i, j] == -1/2:\n",
    "                matriz_res[i, j] = 1/2\n",
    "    \n",
    "    return matriz_res"
   ]
  },
  {
   "cell_type": "code",
   "execution_count": 254,
   "metadata": {},
   "outputs": [],
   "source": [
    "# Aplica el ataque de Coster\n",
    "def ataqueCoster(pk, s):\n",
    "    n = len(pk)\n",
    "    encontrado = False\n",
    "    solucion = []\n",
    "    \n",
    "    # generamos la matriz\n",
    "    matriz_ini = generarMatriz(pk, s)\n",
    "    # aplicamos LLL\n",
    "    matriz_res = matriz_ini.LLL()\n",
    "    # buscamos una solución\n",
    "    solucion = buscarSolucion(matriz_res, pk, s)\n",
    "    \n",
    "    # cambiamos los 1/2 por -1/2 y viceversa\n",
    "    if len(solucion) == 0:\n",
    "        matriz_cambio = cambiarMatriz(matriz_res)\n",
    "        solucion = buscarSolucion(matriz_cambio, pk, s)\n",
    "        \n",
    "    return solucion"
   ]
  },
  {
   "cell_type": "code",
   "execution_count": 255,
   "metadata": {},
   "outputs": [],
   "source": [
    "# Calcula el número de errores cometidos\n",
    "def comprobarErrores(men_orig, men_obt):\n",
    "    n = len(men_orig)\n",
    "    vector_dif = []\n",
    "\n",
    "    if len(men_obt) == 0:\n",
    "        return len(men_orig)\n",
    "\n",
    "    for i in range(0, n):\n",
    "        vector_dif.append(abs(men_orig[i] - men_obt[i]))\n",
    "\n",
    "    return sum(vector_dif)"
   ]
  },
  {
   "cell_type": "code",
   "execution_count": 256,
   "metadata": {},
   "outputs": [],
   "source": [
    "# DATOS DE SALIDA"
   ]
  },
  {
   "cell_type": "code",
   "execution_count": 257,
   "metadata": {},
   "outputs": [],
   "source": [
    "# ejecuta y muestra los datos tras aplicar una iteración\n",
    "def unaIteracion(tam, it):\n",
    "    merkle_hellman = Merkle_Hellman(tam, it)\n",
    "    merkle_hellman.do()\n",
    "\n",
    "    pk = merkle_hellman.pk\n",
    "    s  = merkle_hellman.s\n",
    "\n",
    "    coster = ataqueCoster(pk, s)\n",
    "    \n",
    "    print()\n",
    "    print(\"Clave pública      :\", merkle_hellman.pk)\n",
    "    print(\"Mensaje original   :\", merkle_hellman.mensaje)\n",
    "    print(\"Mensaje cifrado    :\", merkle_hellman.s)\n",
    "    print(\"Mensaje descifrado :\", coster)\n",
    "    print(\"Tamaño mensaje     :\", tam)\n",
    "    print(\"Número iteraciones :\", it)\n",
    "    print(\"Errores totales    :\", comprobarErrores(merkle_hellman.mensaje, coster))"
   ]
  },
  {
   "cell_type": "code",
   "execution_count": 258,
   "metadata": {},
   "outputs": [],
   "source": [
    "# ejecuta y muestra los datos tras aplicar n iteraciones\n",
    "def variasIteraciones(n):\n",
    "    errores  = 0\n",
    "    err_long = 0\n",
    "    vacios   = 0\n",
    "    densidad = 0\n",
    "    \n",
    "    print()\n",
    "    print(\"Iteración \\t Tamaño vector \\t Número Iteraciones \\t Densidad \\t\\tResultado\")\n",
    "    \n",
    "    for i in range(p):\n",
    "        print(i+1, end = \"\")\n",
    "\n",
    "        tam = random.randint(3, 100)\n",
    "        print(\"\\t\\t\", tam, end=\"\")\n",
    "\n",
    "        it = random.randint(0, 3)\n",
    "        print(\"\\t\\t\", it, end=\"\")\n",
    "\n",
    "        merkle_hellman = Merkle_Hellman(tam, it)\n",
    "        merkle_hellman.do()\n",
    "\n",
    "        densidad = RR(merkle_hellman.tamano / log(max(merkle_hellman.pk), 2))\n",
    "        print(\"\\t\\t\\t\", densidad, end=\"\")\n",
    "\n",
    "        coster = ataqueCoster(merkle_hellman.pk, merkle_hellman.s)\n",
    "        if len(coster) == 0:\n",
    "            vacios += 1\n",
    "            print(\"\\tvacio\")\n",
    "        elif len(coster) != len(merkle_hellman.mensaje):\n",
    "            err_long += 1\n",
    "            print(\"\\terror longitud\")\n",
    "        else:\n",
    "            valor = comprobarErrores(merkle_hellman.mensaje, coster)\n",
    "            errores += valor\n",
    "            if valor != 0:\n",
    "                print(\"\\terror valor\")\n",
    "            else:\n",
    "                print(\"\\tobtenido\")\n",
    "    \n",
    "    print()\n",
    "    print(\"Errores totales  tras\", p, \"iteraciones :\", errores)\n",
    "    print(\"Vacios  totales  tras\", p, \"iteraciones :\", vacios)\n",
    "    print(\"Errores longitud tras\", p, \"iteraciones :\", err_long)"
   ]
  },
  {
   "cell_type": "code",
   "execution_count": 259,
   "metadata": {},
   "outputs": [],
   "source": [
    "# ejecuta criptosistemas con distintas densidades para analizar el rendimiento\n",
    "def medirErrores(tam, num_it, archivo):\n",
    "    inicio = tam * 5\n",
    "    fin = tam // 2\n",
    "    paso = (inicio - fin) / (num_it-1)\n",
    "  \n",
    "    for i in range(num_it):\n",
    "        n = fin + i*paso\n",
    "        lim_inf = int(2 ** (2*n + 1) + 1)\n",
    "        lim_sup = int(2 ** (2*n + 2) - 1)\n",
    "        m  = random.randint(lim_inf, lim_sup)\n",
    "        \n",
    "        obtenido = False\n",
    "        for j in range(10):\n",
    "            if obtenido == False:\n",
    "                merkle_hellman = Merkle_Hellman(tam, m)\n",
    "                merkle_hellman.do()\n",
    "                densidad = RR(merkle_hellman.tamano / log(max(merkle_hellman.pk), 2))\n",
    "                coster = ataqueCoster(merkle_hellman.pk, merkle_hellman.s)\n",
    "                if coster == merkle_hellman.mensaje:\n",
    "                    obtenido = True\n",
    "        \n",
    "        resultado = str(tam)\n",
    "        resultado += \"\\t\" + str(densidad)\n",
    "        if obtenido == True:\n",
    "           resultado += \"\\t 0\"\n",
    "        else:\n",
    "            resultado += \"\\t 1\"\n",
    "\n",
    "        with open(archivo, 'a') as f:\n",
    "            f.write(resultado + \"\\n\")"
   ]
  },
  {
   "cell_type": "code",
   "execution_count": 260,
   "metadata": {},
   "outputs": [],
   "source": [
    "# MAIN"
   ]
  },
  {
   "cell_type": "code",
   "execution_count": 261,
   "metadata": {
    "scrolled": true
   },
   "outputs": [
    {
     "name": "stdout",
     "output_type": "stream",
     "text": [
      "Ataque de Coster\n"
     ]
    }
   ],
   "source": [
    "print(\"Ataque de Coster\")\n",
    "\n",
    "# ---------- descomentar para realizar 1 ejecución aleatoria ----------\n",
    "# tam = random.randint(3, 100)\n",
    "# it  = random.randint(0, 3)\n",
    "# unaIteracion(tam, it)\n",
    "\n",
    "# ---------- descomentar para realizar p ejecuciones aleatorias ----------\n",
    "# p = 5\n",
    "# variasIteraciones(p)\n",
    "\n",
    "# ---------- descomentar para analizar it ejecuciones aleatorias ----------\n",
    "# tam = 10\n",
    "# it = 50\n",
    "# archivo = \"resultados.txt\"\n",
    "# medirErrores(tam, it, archivo)\n",
    "# print(\"Finalizado\")"
   ]
  }
 ],
 "metadata": {
  "kernelspec": {
   "display_name": "SageMath 9.3",
   "language": "sage",
   "name": "sagemath"
  },
  "language_info": {
   "codemirror_mode": {
    "name": "ipython",
    "version": 3
   },
   "file_extension": ".py",
   "mimetype": "text/x-python",
   "name": "python",
   "nbconvert_exporter": "python",
   "pygments_lexer": "ipython3",
   "version": "3.7.10"
  }
 },
 "nbformat": 4,
 "nbformat_minor": 4
}
