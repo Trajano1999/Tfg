{
 "cells": [
  {
   "cell_type": "code",
   "execution_count": 1,
   "metadata": {},
   "outputs": [],
   "source": [
    "# Ataque de Coster al criptosistema de Merkle-Hellman"
   ]
  },
  {
   "cell_type": "code",
   "execution_count": 2,
   "metadata": {},
   "outputs": [],
   "source": [
    "# Importamos el método de Merkle-Hellman\n",
    "load(\"Merkle-Hellman_iterativo.py\")"
   ]
  },
  {
   "cell_type": "code",
   "execution_count": 3,
   "metadata": {},
   "outputs": [],
   "source": [
    "# Importamos la biblioteca random\n",
    "import random"
   ]
  },
  {
   "cell_type": "code",
   "execution_count": 4,
   "metadata": {},
   "outputs": [],
   "source": [
    "# Genera la matriz necesaria para aplicar Coster\n",
    "def generarMatriz(pk, s):\n",
    "    n = len(pk)\n",
    "    filas = []\n",
    "    N = random.randint(n^2, n^3)\n",
    "    \n",
    "    # generamos las filas\n",
    "    for i in range(0, n):\n",
    "        aux = [-1]*(n+2)\n",
    "        aux[i] = n+1\n",
    "        aux[n+1] = pk[i]*N\n",
    "        filas.append(aux)\n",
    "\n",
    "    # generamos el vector n+1\n",
    "    b = [-1]*(n+2)\n",
    "    b[n] = n+1\n",
    "    b[n+1] = N*s*(-1)\n",
    "    filas.append(b)\n",
    "    \n",
    "    return Matrix(filas)"
   ]
  },
  {
   "cell_type": "code",
   "execution_count": 5,
   "metadata": {},
   "outputs": [],
   "source": [
    "# Encuentra una solución en la matriz recibida\n",
    "def buscarSolucion(matriz, pk, s):\n",
    "    n = matriz.nrows()\n",
    "    sol_encontrada = False\n",
    "    solucion = []\n",
    "    \n",
    "    # compruebo si alguna fila es solución sin aplicar nada\n",
    "    for j in range(0, n):\n",
    "        if sol_encontrada == False:\n",
    "            suma = 0\n",
    "            fila = matriz[j]\n",
    "        \n",
    "            for i in range(0, len(fila)-1):\n",
    "                if fila[i] < 0:\n",
    "                    break\n",
    "                suma += pk[i]*fila[i]\n",
    "            if suma == s:\n",
    "                sol_encontrada = True\n",
    "                solucion = fila[:-1]\n",
    "        \n",
    "    # compruebo si alguna fila es solución tras dividir por un lambda fijo\n",
    "    if sol_encontrada == False:\n",
    "        for j in range(0, n):\n",
    "            if sol_encontrada == False:\n",
    "                suma = 0\n",
    "                den_encontrado = False\n",
    "                fila = matriz[j]\n",
    "                den = 1\n",
    "                \n",
    "                for i in range(0, n-1): # jjj\n",
    "                    if fila[i] != 0 and den_encontrado == False:\n",
    "                        den = fila[i]\n",
    "                        den_encontrado = True\n",
    "                    aux = fila[i] // den\n",
    "                    if aux < 0:\n",
    "                        break\n",
    "                    suma += pk[i]*aux\n",
    "                    solucion.append(aux)\n",
    "                if suma == s and len(solucion) == len(pk):\n",
    "                    sol_encontrada = True\n",
    "                else:\n",
    "                    solucion = []\n",
    "\n",
    "    solucion = list(solucion)\n",
    "    return solucion"
   ]
  },
  {
   "cell_type": "code",
   "execution_count": 6,
   "metadata": {},
   "outputs": [],
   "source": [
    "# Intercambia los 0 por 1 en una matriz\n",
    "def cambiarMatriz(matriz):\n",
    "    matriz_res = copy(matriz)\n",
    "\n",
    "    for i in range(matriz.nrows()):\n",
    "        for j in range(matriz.ncols()-1):\n",
    "            if matriz[i, j] == 0:\n",
    "                matriz_res[i, j] = 1\n",
    "            elif matriz[i, j] == 1:\n",
    "                matriz_res[i, j] = 0\n",
    "    \n",
    "    return matriz_res"
   ]
  },
  {
   "cell_type": "code",
   "execution_count": 7,
   "metadata": {},
   "outputs": [],
   "source": [
    "# Aplica el ataque de Coster\n",
    "def ataqueCoster(pk, s):\n",
    "    n = len(pk)\n",
    "    encontrado = False\n",
    "    solucion = []\n",
    "    \n",
    "    # generamos la matriz\n",
    "    matriz_ini = generarMatriz(pk, s)\n",
    "    print()\n",
    "    print(matriz_ini)\n",
    "    \n",
    "    # aplicamos LLL\n",
    "    matriz_res = matriz_ini.LLL()\n",
    "    print()\n",
    "    print(matriz_res)\n",
    "    \n",
    "    # buscamos una solución\n",
    "    solucion = buscarSolucion(matriz_res, pk, s)\n",
    "    \n",
    "    # cambiamos los 0 por 1\n",
    "    if len(solucion) == 0:\n",
    "        matriz_cambio = cambiarMatriz(matriz_res)\n",
    "        solucion = buscarSolucion(matriz_cambio, pk, s)\n",
    "        \n",
    "    return solucion"
   ]
  },
  {
   "cell_type": "code",
   "execution_count": 8,
   "metadata": {},
   "outputs": [],
   "source": [
    "# Calcula el número de errores cometidos\n",
    "def comprobarErrores(men_orig, men_obt):\n",
    "        n = len(men_orig)\n",
    "        vector_dif = []\n",
    "        \n",
    "        for i in range(0, n):\n",
    "            vector_dif.append(abs(men_orig[i] - men_obt[i]))\n",
    "\n",
    "        return sum(vector_dif)"
   ]
  },
  {
   "cell_type": "code",
   "execution_count": 9,
   "metadata": {
    "scrolled": true
   },
   "outputs": [],
   "source": [
    "# Main\n",
    "\n",
    "# ---------- descomentar para ejecutarlo 1 vez ----------\n",
    "\n",
    "# pk = merkle_hellman.pk\n",
    "# s  = merkle_hellman.s\n",
    "\n",
    "# coster = ataqueCoster(pk, s)\n",
    "\n",
    "# print()\n",
    "# print(\"Clave pública      :\", merkle_hellman.pk)\n",
    "# print(\"Mensaje original   :\", merkle_hellman.mensaje)\n",
    "# print(\"Mensaje cifrado    :\", merkle_hellman.s)\n",
    "# print(\"Mensaje descifrado :\", coster)\n",
    "# if len(coster) != 0:\n",
    "#     print(\"Errores totales    :\", comprobarErrores(merkle_hellman.mensaje, coster))\n",
    "\n",
    "# ---------- descomentar para ejecutarlo p veces ----------\n",
    "\n",
    "# p        = 1000\n",
    "# errores  = 0\n",
    "# err_long = 0\n",
    "# vacios   = 0\n",
    "\n",
    "# for i in range(0, p):\n",
    "#     print(i, end = \",\")\n",
    "#     merkle_hellman = Merkle_Hellman(tam, it)\n",
    "#     merkle_hellman.do()\n",
    "#     coster = ataqueCoster(merkle_hellman.pk, merkle_hellman.s)\n",
    "#     if len(coster) == 0:\n",
    "#         vacios += 1\n",
    "#     elif len(coster) != len(merkle_hellman.mensaje):\n",
    "#         err_long += 1\n",
    "#     else:\n",
    "#         valor = comprobarErrores(merkle_hellman.mensaje, coster)\n",
    "#         errores += valor\n",
    "#         if valor != 0:\n",
    "#             print(\"\\nError!\")\n",
    "#             print(coster)\n",
    "#             print(merkle_hellman.mensaje)\n",
    "        \n",
    "# print(\"\\nErrores totales tras \", p, \"iteraciones :\", errores)\n",
    "# print(\"Vacios totales tras  \", p, \"iteraciones :\", vacios)\n",
    "# print(\"Errores longitud tras\", p, \"iteraciones :\", err_long)"
   ]
  }
 ],
 "metadata": {
  "kernelspec": {
   "display_name": "SageMath 9.3",
   "language": "sage",
   "name": "sagemath"
  },
  "language_info": {
   "codemirror_mode": {
    "name": "ipython",
    "version": 3
   },
   "file_extension": ".py",
   "mimetype": "text/x-python",
   "name": "python",
   "nbconvert_exporter": "python",
   "pygments_lexer": "ipython3",
   "version": "3.7.10"
  }
 },
 "nbformat": 4,
 "nbformat_minor": 4
}
