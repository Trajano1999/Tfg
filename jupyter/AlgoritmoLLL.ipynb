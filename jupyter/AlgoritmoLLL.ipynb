{
 "cells": [
  {
   "cell_type": "code",
   "execution_count": 10,
   "metadata": {},
   "outputs": [
    {
     "name": "stdout",
     "output_type": "stream",
     "text": [
      "Base original:\n",
      "[1 2 3]\n",
      "[4 5 6]\n",
      "[7 8 9]\n",
      "\n",
      "Base reducida:\n",
      "[ 0  0  0]\n",
      "[ 2  1  0]\n",
      "[-1  1  3]\n"
     ]
    }
   ],
   "source": [
    "from sage.matrix.constructor import Matrix\n",
    "\n",
    "# Definir una matriz con una base que deseas reducir\n",
    "A = Matrix([\n",
    "    [1, 2, 3],\n",
    "    [4, 5, 6],\n",
    "    [7, 8, 9]\n",
    "])\n",
    "\n",
    "# Aplicar el algoritmo LLL para reducir la base\n",
    "B = A.LLL()\n",
    "\n",
    "# Imprimir la base original y la base reducida\n",
    "print(\"Base original:\")\n",
    "print(A)\n",
    "print(\"\\nBase reducida:\")\n",
    "print(B)"
   ]
  }
 ],
 "metadata": {
  "kernelspec": {
   "display_name": "SageMath 9.5",
   "language": "sage",
   "name": "sagemath"
  },
  "language_info": {
   "codemirror_mode": {
    "name": "ipython",
    "version": 3
   },
   "file_extension": ".py",
   "mimetype": "text/x-python",
   "name": "python",
   "nbconvert_exporter": "python",
   "pygments_lexer": "ipython3",
   "version": "3.10.12"
  }
 },
 "nbformat": 4,
 "nbformat_minor": 5
}
