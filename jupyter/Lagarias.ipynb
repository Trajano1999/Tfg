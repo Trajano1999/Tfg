{
 "cells": [
  {
   "cell_type": "code",
   "execution_count": 390,
   "metadata": {},
   "outputs": [],
   "source": [
    "# Ataque de Lagarias al criptosistema de Merkle-Hellman iterativo"
   ]
  },
  {
   "cell_type": "code",
   "execution_count": 391,
   "metadata": {},
   "outputs": [
    {
     "name": "stdout",
     "output_type": "stream",
     "text": [
      "\n",
      "Tamaño del mensaje : 5\n",
      "Num it solicitadas : 0\n",
      "Num it realizadas  : 0\n",
      "Clave privada      : [[2379, 2243, [3, 63, 109, 226, 484]]]\n",
      "Clave pública      : [1971, 948, 1829, 191, 788]\n",
      "Mensaje original   : [0, 0, 1, 1, 1]\n",
      "Mensaje cifrado    : 2808\n",
      "Mensaje descifrado : [0, 0, 1, 1, 1]\n",
      "Errores totales    : 0\n"
     ]
    }
   ],
   "source": [
    "# Importamos el método de Merkle-Hellman\n",
    "load(\"Merkle-Hellman_iterativo.py\")"
   ]
  },
  {
   "cell_type": "code",
   "execution_count": 392,
   "metadata": {},
   "outputs": [],
   "source": [
    "# Aplica el ataque de Lagarias\n",
    "def ataqueLagarias(pk, s):\n",
    "    n     = len(pk)\n",
    "    filas = []\n",
    "    encontrado = False\n",
    "\n",
    "    # generamos n primeros vectores\n",
    "    for i in range(0, n):\n",
    "        aux = zero_vector(n+1)\n",
    "        aux[i] = 1\n",
    "        aux[n] = pk[i] * (-1)\n",
    "        filas.append(aux)\n",
    "\n",
    "    # generamos el vector n+1\n",
    "    b = zero_vector(n+1)\n",
    "    b[n] = s\n",
    "    filas.append(b)\n",
    "    \n",
    "    # generamos la matriz y aplicamos LLL\n",
    "    matriz_ini = Matrix(filas)\n",
    "    matriz_res = matriz_ini.LLL() \n",
    "    \n",
    "    # comprobamos si alguna fila es solución\n",
    "    for i in range(0, n+1):\n",
    "        if encontrado == False and esSolucion(matriz_res[i]) == True:\n",
    "            encontrado = True\n",
    "            sol = matriz_res[i]\n",
    "\n",
    "    if encontrado == False:\n",
    "        sol = []\n",
    "        \n",
    "    return sol[:-1]"
   ]
  },
  {
   "cell_type": "code",
   "execution_count": 393,
   "metadata": {},
   "outputs": [],
   "source": [
    "# Comprueba si alguna fila es solución\n",
    "def esSolucion(fila):\n",
    "    suma = 0\n",
    "    es_sol = False\n",
    "    \n",
    "    for i in range(0, len(fila)-1):\n",
    "        suma += pk[i]*fila[i]\n",
    "    \n",
    "    if suma == s:\n",
    "        es_sol = True\n",
    "        \n",
    "    return es_sol"
   ]
  },
  {
   "cell_type": "code",
   "execution_count": 394,
   "metadata": {},
   "outputs": [],
   "source": [
    "# Calcula el número de errores cometidos\n",
    "def comprobarErrores(men_orig, men_obt):\n",
    "        n = len(men_orig)\n",
    "        vector_dif = []\n",
    "\n",
    "        for i in range(0, n):\n",
    "            vector_dif.append(abs(men_orig[i] - men_obt[i]))\n",
    "\n",
    "        return sum(vector_dif)"
   ]
  },
  {
   "cell_type": "code",
   "execution_count": 395,
   "metadata": {},
   "outputs": [
    {
     "name": "stdout",
     "output_type": "stream",
     "text": [
      "\n",
      "Clave pública      : [1971, 948, 1829, 191, 788]\n",
      "Mensaje original   : [0, 0, 1, 1, 1]\n",
      "Mensaje cifrado    : 2808\n",
      "Mensaje descifrado : (0, 0, 1, 1, 1)\n",
      "Errores totales    : 0\n"
     ]
    }
   ],
   "source": [
    "# Main\n",
    "pk = merkle_hellman.pk\n",
    "s  = merkle_hellman.s\n",
    "\n",
    "lagarias = ataqueLagarias(pk, s)\n",
    "\n",
    "print()\n",
    "print(\"Clave pública      :\", merkle_hellman.pk)\n",
    "print(\"Mensaje original   :\", merkle_hellman.mensaje)\n",
    "print(\"Mensaje cifrado    :\", merkle_hellman.s)\n",
    "print(\"Mensaje descifrado :\", lagarias)\n",
    "print(\"Errores totales    :\", comprobarErrores(merkle_hellman.mensaje, lagarias))"
   ]
  }
 ],
 "metadata": {
  "kernelspec": {
   "display_name": "SageMath 9.3",
   "language": "sage",
   "name": "sagemath"
  },
  "language_info": {
   "codemirror_mode": {
    "name": "ipython",
    "version": 3
   },
   "file_extension": ".py",
   "mimetype": "text/x-python",
   "name": "python",
   "nbconvert_exporter": "python",
   "pygments_lexer": "ipython3",
   "version": "3.7.10"
  }
 },
 "nbformat": 4,
 "nbformat_minor": 4
}
