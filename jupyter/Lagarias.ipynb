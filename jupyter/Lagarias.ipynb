{
 "cells": [
  {
   "cell_type": "code",
   "execution_count": 278,
   "metadata": {},
   "outputs": [],
   "source": [
    "# Ataque de Lagarias al criptosistema de Merkle-Hellman iterativo"
   ]
  },
  {
   "cell_type": "code",
   "execution_count": 279,
   "metadata": {},
   "outputs": [
    {
     "name": "stdout",
     "output_type": "stream",
     "text": [
      "\n",
      "Tamaño del mensaje : 5\n",
      "Num it solicitadas : 0\n",
      "Num it realizadas  : 0\n",
      "Clave privada      : [[3373, 2834, [16, 40, 118, 242, 496]]]\n",
      "Clave pública      : [1495, 2051, 485, 1109, 2496]\n",
      "Mensaje original   : [0, 0, 0, 1, 1]\n",
      "Mensaje cifrado    : 3605\n",
      "Mensaje descifrado : [0, 0, 0, 1, 1]\n",
      "Errores totales    : 0\n",
      "\n"
     ]
    }
   ],
   "source": [
    "# Importamos el método de Merkle-Hellman\n",
    "load(\"Merkle-Hellman_iterativo.py\")"
   ]
  },
  {
   "cell_type": "code",
   "execution_count": 280,
   "metadata": {},
   "outputs": [],
   "source": [
    "# Aplica el ataque de Lagarias\n",
    "def ataqueLagarias(pk, s):\n",
    "    n     = len(pk)\n",
    "    filas = []\n",
    "    \n",
    "    # generamos n primeros vectores\n",
    "    for i in range(0, n):\n",
    "        aux = zero_vector(n+1)\n",
    "        aux[i] = 1\n",
    "        aux[n] = pk[i] * (-1)\n",
    "        filas.append(aux)\n",
    "\n",
    "    # generamos el vector n+1\n",
    "    b = zero_vector(n+1)\n",
    "    b[n] = s\n",
    "    filas.append(b)\n",
    "    \n",
    "    # generamos la matriz y aplicamos LLL\n",
    "    matriz     = Matrix(filas)\n",
    "    matriz_res = matriz.LLL() \n",
    "    return matriz_res"
   ]
  },
  {
   "cell_type": "code",
   "execution_count": 281,
   "metadata": {},
   "outputs": [
    {
     "name": "stdout",
     "output_type": "stream",
     "text": [
      "\n",
      "Clave pública      : [1495, 2051, 485, 1109, 2496]\n",
      "Mensaje original   : [0, 0, 0, 1, 1]\n",
      "Mensaje cifrado    : 3605\n",
      "Mensaje descifrado : [0, 0, 0, 1, 1]\n",
      "Errores totales    : 0\n",
      "\n",
      "Lagarias :\n",
      "[ 0  0  0  1  1  0]\n",
      "[ 1  0  0 -2  1  0]\n",
      "[ 1 -1 -2  1  0  0]\n",
      "[ 0  5 -1  1  0 -2]\n",
      "[-2  1 -3  0  1  5]\n",
      "[ 5  3  1  2 -3  2]\n"
     ]
    }
   ],
   "source": [
    "# Main\n",
    "\n",
    "print()\n",
    "print(\"Clave pública      :\", merkle_hellman.pk)\n",
    "print(\"Mensaje original   :\", merkle_hellman.mensaje)\n",
    "print(\"Mensaje cifrado    :\", merkle_hellman.s)\n",
    "print(\"Mensaje descifrado :\", merkle_hellman.res)\n",
    "print(\"Errores totales    :\", merkle_hellman.errores)\n",
    "print()\n",
    "\n",
    "lagarias = ataqueLagarias(pk, s)\n",
    "print(\"Lagarias :\")\n",
    "print(lagarias)"
   ]
  }
 ],
 "metadata": {
  "kernelspec": {
   "display_name": "SageMath 9.3",
   "language": "sage",
   "name": "sagemath"
  },
  "language_info": {
   "codemirror_mode": {
    "name": "ipython",
    "version": 3
   },
   "file_extension": ".py",
   "mimetype": "text/x-python",
   "name": "python",
   "nbconvert_exporter": "python",
   "pygments_lexer": "ipython3",
   "version": "3.7.10"
  }
 },
 "nbformat": 4,
 "nbformat_minor": 4
}
