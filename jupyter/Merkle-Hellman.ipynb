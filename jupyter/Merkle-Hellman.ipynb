{
 "cells": [
  {
   "cell_type": "code",
   "execution_count": 37,
   "id": "e5f4ae07",
   "metadata": {},
   "outputs": [],
   "source": [
    "# Descripción de este problema de la mochila:\n",
    "\n",
    "# Buscamos que dado un vector a = (a1, ... , an) naturales, y un valor m natural, \n",
    "# cuales son los valores de a tal que su suma es igual a m o, en caso de que no se pueda,\n",
    "# qué valor es el más cercano.\n",
    "\n",
    "# Este problema equivale al siguiente:\n",
    "\n",
    "# Sea a = (a1, ... , an) valores naturales, buscamos un x = (x1, ... , xn) con xi en {0,1}, \n",
    "# tal que S = Sum (ai*xi) = a*x, siendo * el producto escalar."
   ]
  },
  {
   "cell_type": "code",
   "execution_count": 38,
   "id": "aed4e0e5",
   "metadata": {},
   "outputs": [],
   "source": [
    "def inverso(a):\n",
    "    # método de Bezout\n",
    "    return 1"
   ]
  },
  {
   "cell_type": "code",
   "execution_count": 39,
   "id": "2c65ecc3",
   "metadata": {},
   "outputs": [],
   "source": [
    "def merkleHellman(n, m, w, ap, a, s):\n",
    "    res = []\n",
    "    \n",
    "    # cálculo del inverso de w módulo m\n",
    "    inv_w = inverso(w, m)\n",
    "    \n",
    "    # cálculo de sp\n",
    "    sp = (inv_w * s) % m\n",
    "    \n",
    "    # cálculo de resultado\n",
    "    suma = 0    \n",
    "    for i in range(len(ap)-1, -1, -1):\n",
    "        suma += ap[i]\n",
    "        if(sp > suma):\n",
    "            res.append(1)\n",
    "        else:\n",
    "            suma -= ap[i]\n",
    "            res.append(0)\n",
    "    \n",
    "    # devolvemos el vector resultado en orden inverso\n",
    "    return res\n",
    "    "
   ]
  },
  {
   "cell_type": "code",
   "execution_count": 40,
   "id": "b3f1b92b",
   "metadata": {},
   "outputs": [
    {
     "data": {
      "text/plain": [
       "[1, 1, 1, 1, 1]"
      ]
     },
     "execution_count": 40,
     "metadata": {},
     "output_type": "execute_result"
    }
   ],
   "source": [
    "n = 5\n",
    "m = 8843\n",
    "w = 2550\n",
    "ap = [171, 196, 457, 1191, 2410]\n",
    "a  = [5457, 1663, 216, 6013, 7439] \n",
    "s = 15115\n",
    "\n",
    "merkleHellman(n, m, w, ap, a, s) "
   ]
  },
  {
   "cell_type": "code",
   "execution_count": 41,
   "id": "99504bc5",
   "metadata": {},
   "outputs": [
    {
     "name": "stdout",
     "output_type": "stream",
     "text": [
      "3\n",
      "2\n",
      "1\n",
      "0\n"
     ]
    }
   ],
   "source": [
    "def pruebas():\n",
    "    for i in range(3, -1, -1):\n",
    "        print(i)\n",
    "pruebas()"
   ]
  }
 ],
 "metadata": {
  "kernelspec": {
   "display_name": "SageMath 9.5",
   "language": "sage",
   "name": "sagemath"
  },
  "language_info": {
   "codemirror_mode": {
    "name": "ipython",
    "version": 3
   },
   "file_extension": ".py",
   "mimetype": "text/x-python",
   "name": "python",
   "nbconvert_exporter": "python",
   "pygments_lexer": "ipython3",
   "version": "3.10.6"
  },
  "vscode": {
   "interpreter": {
    "hash": "916dbcbb3f70747c44a77c7bcd40155683ae19c65e1c03b4aa3499c5328201f1"
   }
  }
 },
 "nbformat": 4,
 "nbformat_minor": 5
}
